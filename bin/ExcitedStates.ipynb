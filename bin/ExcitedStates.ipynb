{
 "metadata": {
  "name": "",
  "signature": "sha256:d2a29a7c98a3fba943f9f28ba2be18431182862b12e14ad636c31eb219beb29b"
 },
 "nbformat": 3,
 "nbformat_minor": 0,
 "worksheets": [
  {
   "cells": [
    {
     "cell_type": "markdown",
     "metadata": {},
     "source": [
      "# Problem \n",
      "Eigenproblems abound in the modeling of nature.\n",
      "\n",
      "Density Functional Theory models yield single particle-like Schr\u00f6dinger equations with a nonlinear potential term that accounts for all the many-body interactions.\n",
      "\n",
      "Electronic Structure Theory generates Schrodinger like equations. \n",
      "\n",
      "# Goal\n",
      "\n",
      "We seek a method for an efficient computational solution to the time-independent Schr\u00f6dinger equation."
     ]
    },
    {
     "cell_type": "markdown",
     "metadata": {},
     "source": [
      "## the Time-Independent Schr\u00f6dinger Equation\n",
      "Given, $\\hat{H}$ is the Hamiltonian operator (or Hamiltonian matrix) for a discrete system), $\\psi$ is the wavefunction, and $E$, discrete energy states, where\n",
      "\n",
      "\\begin{align*}\n",
      "\\hat{H}=T+V(x)=-\\frac{\\hbar^2}{2m}\\Delta +V(x)\\tag{1}\n",
      "\\end{align*}\n",
      "\n",
      "for $\\Delta$, the Laplacian. \n",
      "\n",
      "We have\n",
      "\n",
      "\\begin{align*}\n",
      "\\hat{H}\\psi_j(r)=E_j\\psi_j(r),\\ \\ \\ j\\in\\mathbb{N}\\tag{2}\n",
      "\\end{align*}\n",
      "\n",
      "For numerical calculations, we will typically take $H$ to be a matrix of discrete values describing the position and momentum of particles in the system.\n",
      "\n",
      "Note that this is an Eigenproblem of the form \n",
      "\n",
      "$$A\\mathbf{x}=\\lambda\\mathbf{x}$$"
     ]
    },
    {
     "cell_type": "markdown",
     "metadata": {},
     "source": [
      "### The Imaginary Time Propagation Method\n",
      "The imaginary time propagation method (ITP) relies on solving the time-dependent Schr\u00f6dinger equation:\n",
      "\n",
      "\\begin{align*}\n",
      "i\\hbar\\frac{\\partial \\psi(r,t)}{\\partial t}= \\hat{H}\\psi(r,t)\\tag{3}\n",
      "\\end{align*}\n",
      "\n",
      "in imaginary time where . \n",
      "\n",
      "### Wick Rotation\n",
      "We perform a Wick Rotation (setting $t=-i\\tau$) to transform Eqn. 3 into a simple diffusion equation  \n",
      "\n",
      "\n",
      "\\begin{align*}\n",
      "\\frac{\\partial \\psi(r,\\tau)}{\\partial \\tau}=-\\frac{\\hat{H}}{\\hbar}\\psi(r,\\tau)\\tag{4}\n",
      "\\end{align*}"
     ]
    },
    {
     "cell_type": "markdown",
     "metadata": {},
     "source": [
      "## Solution to the Diffusion Equation\n",
      "The formal solution to eqn. 4 is given by \n",
      "\n",
      "\\begin{align*}\n",
      "\\psi(r,\\tau)=\\exp(-\\hat{H}\\tau/\\hbar)\\psi(r,0)\\tag{5}\n",
      "\\end{align*}\n",
      "\n",
      "We expand the initial state $\\psi(r,0)$ in terms of the eigenfunctions $\\phi_j(r)$ the correspond to the eigenvalues $E_j$ for\n",
      "\n",
      "\\begin{align*}\n",
      "\\hat{H}\\phi_j(r)=E_j\\phi_j(r)\\tag{6}\n",
      "\\end{align*}"
     ]
    },
    {
     "cell_type": "markdown",
     "metadata": {},
     "source": [
      "The time evolution starting from the initial state $\\psi(r,0)$ can now be written as \n",
      "\n",
      "\\begin{align*}\n",
      "\\psi(r,\\tau)=e^{-\\hat{H}\\tau/\\hbar}\\psi(r,0)=e^{-\\hat{H}\\tau/\\hbar}\\sum_{j=0}^\\infty a_j\\psi_j(r)=\\sum_{j=0}^\\infty a_je^{E_j\\tau/\\hbar}\\phi_j(r)\\tag{7}\n",
      "\\end{align*}"
     ]
    },
    {
     "cell_type": "markdown",
     "metadata": {},
     "source": [
      "## Imaginary Time Propagation as Iterative Solution\n",
      "As $\\tau\\to\\infty$, $\\psi(r,\\tau)$ becomes proportional to $\\phi_0(r)$. In other words, iterated $\\psi$ functions will converge on the eigenfunction for the base state of the time-**independent** equation (eq. 6). Here we are solving an eigenproblem through an interative approximation of a differential equation. \n",
      "\n",
      "*iterative differential equation methods*\n",
      "\n",
      "*Olver finite differences*"
     ]
    },
    {
     "cell_type": "markdown",
     "metadata": {},
     "source": [
      "## Finding the Ground State"
     ]
    },
    {
     "cell_type": "code",
     "collapsed": false,
     "input": [
      "import numpy as np\n",
      "import numpy.linalg as la\n",
      "import math, time\n",
      "import matplotlib.pyplot as plt\n",
      "from sys import argv\n",
      "import datetime\n",
      "%matplotlib inline"
     ],
     "language": "python",
     "metadata": {},
     "outputs": [],
     "prompt_number": 2
    },
    {
     "cell_type": "code",
     "collapsed": false,
     "input": [
      "k = 300\n",
      "\n",
      "eps = 10E-6\n",
      "times = np.array([[0.,0.]]) \n",
      "temp_times = times\n",
      "H = np.random.rand(k+200,k+200)\n",
      "H = H.T.dot(H)\n",
      "file = datetime.datetime.now().strftime(\"%Y%m%d%H%M%S\")"
     ],
     "language": "python",
     "metadata": {},
     "outputs": [],
     "prompt_number": 70
    },
    {
     "cell_type": "code",
     "collapsed": false,
     "input": [
      "for i in range(k):\n",
      "        # print i\n",
      "        i = i+1\n",
      "        n = i\n",
      "        err = 1\n",
      "        int_H = H[0:n,0:n]\n",
      "        iterations = 0\n",
      "        start = time.clock()\n",
      "\n",
      "        phi0 = np.random.rand(n)\n",
      "        # print la.eig(H)[1].T\n",
      "        CayleyN = (np.identity(n)-0.5*int_H)\n",
      "        CayleyP = (np.identity(n)+0.5*int_H)\n",
      "        CayleyP_inv = la.inv(CayleyP)\n",
      "\n",
      "        while(err > eps):\n",
      "                iterations += 1\n",
      "                phi1 = CayleyP_inv.dot(CayleyN.dot(phi0))\n",
      "                mu = math.sqrt(phi1.dot(phi1))\n",
      "                phi1 = phi1/mu  \n",
      "                err = math.sqrt(2)*math.sqrt(abs(phi1.dot(int_H.dot(int_H)).dot(phi1)- (phi1.dot(int_H).dot(phi1))**2))\n",
      "                phi0 = phi1\n",
      "\n",
      "        end = time.clock()\n",
      "        delta_t = end-start\n",
      "        temp_times[0][0] = i\n",
      "        temp_times[0][1] = delta_t\n",
      "        times = np.concatenate((times,temp_times),axis=0)\n",
      "        np.savetxt(file,times,fmt='%.4e')\n",
      "\n",
      "        \n",
      "plt.plot(times[:k,0],times[:k,1])\n",
      "\n",
      "plt.show()\n"
     ],
     "language": "python",
     "metadata": {},
     "outputs": [
      {
       "metadata": {},
       "output_type": "display_data",
       "png": "[encoded data removed]",
       "text": [
        "<matplotlib.figure.Figure at 0x11044f590>"
       ]
      }
     ],
     "prompt_number": 71
    },
    {
     "cell_type": "code",
     "collapsed": false,
     "input": [
      "np.set_printoptions(precision=6,suppress=True,formatter=float)\n",
      "\n",
      "phi0"
     ],
     "language": "python",
     "metadata": {},
     "outputs": [
      {
       "metadata": {},
       "output_type": "pyout",
       "prompt_number": 64,
       "text": [
        "array([ 0.095811,  0.103336,  0.101997,  0.103104,  0.09915 ,  0.104293,\n",
        "        0.097661,  0.098985,  0.099519,  0.103466,  0.096878,  0.098705,\n",
        "        0.0966  ,  0.099749,  0.103957,  0.097404,  0.096983,  0.099913,\n",
        "        0.095697,  0.09801 ,  0.102899,  0.096146,  0.099466,  0.097908,\n",
        "        0.103759,  0.098855,  0.103091,  0.098825,  0.101815,  0.099494,\n",
        "        0.096614,  0.100962,  0.095844,  0.103862,  0.100759,  0.099581,\n",
        "        0.098617,  0.106259,  0.097449,  0.102104,  0.097868,  0.102439,\n",
        "        0.096882,  0.100899,  0.092935,  0.101082,  0.10574 ,  0.1009  ,\n",
        "        0.099533,  0.101069,  0.106548,  0.102221,  0.096897,  0.097431,\n",
        "        0.095495,  0.094038,  0.101569,  0.097085,  0.095079,  0.102557,\n",
        "        0.106596,  0.099939,  0.100268,  0.103684,  0.097932,  0.097291,\n",
        "        0.096313,  0.098528,  0.091565,  0.103261,  0.102006,  0.101996,\n",
        "        0.103406,  0.094932,  0.097117,  0.10008 ,  0.100454,  0.095418,\n",
        "        0.102195,  0.100689,  0.105295,  0.100508,  0.094709,  0.096054,\n",
        "        0.103639,  0.101266,  0.095723,  0.101786,  0.101302,  0.100328,\n",
        "        0.106601,  0.09259 ,  0.104864,  0.105139,  0.101007,  0.100833,\n",
        "        0.100051,  0.100539,  0.107391,  0.097154])"
       ]
      }
     ],
     "prompt_number": 64
    },
    {
     "cell_type": "code",
     "collapsed": false,
     "input": [
      "la.eig(int_H)[1][:,0]"
     ],
     "language": "python",
     "metadata": {},
     "outputs": [
      {
       "metadata": {},
       "output_type": "pyout",
       "prompt_number": 65,
       "text": [
        "array([ 0.095811,  0.103336,  0.101997,  0.103104,  0.09915 ,  0.104293,\n",
        "        0.097661,  0.098985,  0.099519,  0.103466,  0.096878,  0.098705,\n",
        "        0.0966  ,  0.099749,  0.103957,  0.097404,  0.096983,  0.099913,\n",
        "        0.095697,  0.09801 ,  0.102899,  0.096146,  0.099466,  0.097908,\n",
        "        0.103759,  0.098855,  0.103091,  0.098825,  0.101815,  0.099494,\n",
        "        0.096614,  0.100962,  0.095844,  0.103862,  0.100759,  0.099581,\n",
        "        0.098617,  0.106259,  0.097449,  0.102104,  0.097868,  0.102439,\n",
        "        0.096882,  0.100899,  0.092935,  0.101082,  0.10574 ,  0.1009  ,\n",
        "        0.099533,  0.101069,  0.106548,  0.102221,  0.096897,  0.097431,\n",
        "        0.095495,  0.094038,  0.101569,  0.097085,  0.095079,  0.102557,\n",
        "        0.106596,  0.099939,  0.100268,  0.103684,  0.097932,  0.097291,\n",
        "        0.096313,  0.098528,  0.091565,  0.103261,  0.102006,  0.101996,\n",
        "        0.103406,  0.094932,  0.097117,  0.10008 ,  0.100454,  0.095418,\n",
        "        0.102195,  0.100689,  0.105295,  0.100508,  0.094709,  0.096054,\n",
        "        0.103639,  0.101266,  0.095723,  0.101786,  0.101302,  0.100328,\n",
        "        0.106601,  0.09259 ,  0.104864,  0.105139,  0.101007,  0.100833,\n",
        "        0.100051,  0.100539,  0.107391,  0.097154])"
       ]
      }
     ],
     "prompt_number": 65
    },
    {
     "cell_type": "code",
     "collapsed": false,
     "input": [
      "abs(la.eig(int_H)[1][:,0])-abs(phi0)\n"
     ],
     "language": "python",
     "metadata": {},
     "outputs": [
      {
       "metadata": {},
       "output_type": "pyout",
       "prompt_number": 66,
       "text": [
        "array([ -1.804403e-10,   1.524185e-09,  -1.381993e-10,   9.191934e-10,\n",
        "         1.477085e-09,   1.270410e-09,  -1.272802e-09,  -1.037408e-09,\n",
        "        -1.273373e-10,  -5.737870e-10,  -1.685339e-09,  -2.375439e-10,\n",
        "        -9.888992e-10,   1.954964e-09,   2.007974e-09,  -1.507765e-09,\n",
        "         8.474579e-10,  -1.961359e-09,  -8.043330e-10,  -2.187794e-09,\n",
        "        -2.569797e-09,  -1.019212e-10,  -1.232498e-09,  -1.745826e-09,\n",
        "         4.522222e-10,   7.244396e-10,   4.752562e-10,  -9.960150e-10,\n",
        "         1.370411e-09,  -1.203053e-10,  -2.146047e-09,   2.739398e-11,\n",
        "         6.394539e-10,  -1.213031e-09,  -1.720872e-10,  -2.796302e-10,\n",
        "        -4.815309e-11,   8.015536e-10,  -1.783063e-10,  -2.501262e-10,\n",
        "         1.610441e-09,   8.197204e-10,   1.175502e-09,  -1.101852e-09,\n",
        "        -6.593943e-10,   1.457115e-09,   1.568503e-10,  -3.935539e-10,\n",
        "         6.345335e-11,  -2.458059e-10,   4.386881e-10,  -4.559281e-10,\n",
        "        -7.530098e-10,  -1.158156e-09,  -5.343609e-11,  -7.870312e-10,\n",
        "         2.439480e-10,  -1.675589e-10,   4.694113e-11,  -1.215481e-10,\n",
        "         1.642119e-09,   1.536224e-10,   1.021933e-09,  -7.859301e-10,\n",
        "         8.376032e-10,   3.359412e-10,  -1.024301e-09,  -8.439009e-10,\n",
        "         7.276948e-10,  -4.532696e-10,   1.703726e-09,  -2.959827e-09,\n",
        "        -2.067084e-10,  -1.355851e-09,  -5.654463e-10,   6.019744e-11,\n",
        "        -3.579826e-10,  -2.465226e-09,  -6.073011e-10,   2.398757e-09,\n",
        "        -4.412440e-10,  -3.493164e-10,  -4.600466e-11,   2.694824e-10,\n",
        "         2.133818e-09,  -1.531635e-10,   1.728650e-09,   2.863394e-10,\n",
        "         1.576883e-09,  -1.678248e-10,   4.619403e-10,   7.667073e-10,\n",
        "         1.211877e-09,  -8.348254e-10,   6.230160e-10,   3.981608e-10,\n",
        "         1.033806e-09,   7.384125e-10,   6.549274e-10,   1.176959e-09])"
       ]
      }
     ],
     "prompt_number": 66
    },
    {
     "cell_type": "markdown",
     "metadata": {},
     "source": [
      "### Finding an Excited Eigenstate\n",
      "Given our basic "
     ]
    }
   ],
   "metadata": {}
  }
 ]
}