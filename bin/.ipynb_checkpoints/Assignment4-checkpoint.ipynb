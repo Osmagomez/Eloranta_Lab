{
 "metadata": {
  "name": "",
  "signature": "sha256:c9560e92becd031e2e7e0712fdfefd6c59d208bfcf1e1b859812e423a1ea05de"
 },
 "nbformat": 3,
 "nbformat_minor": 0,
 "worksheets": [
  {
   "cells": [
    {
     "cell_type": "markdown",
     "metadata": {},
     "source": [
      "# Math 382 Assignment 4"
     ]
    },
    {
     "cell_type": "code",
     "collapsed": false,
     "input": [
      "import numpy as np\n",
      "import numpy.linalg as la\n",
      "import math as m\n",
      "import matplotlib.pyplot as plt\n",
      "%matplotlib inline"
     ],
     "language": "python",
     "metadata": {},
     "outputs": [],
     "prompt_number": 1
    },
    {
     "cell_type": "markdown",
     "metadata": {},
     "source": [
      "## Problem 1\n",
      "Write a program to read a two column white space delimited data file and calculate the mean and standard deviation of each column and correlation of the two columns\n",
      "\n",
      "$$\\frac{\\sum(x_i-\\bar{x})(y_i-\\bar{y})}{\\sqrt{\\sum(x_i-\\bar{x})^2}\\sqrt{\\sum(y_i-\\bar{y})^2}}$$\n",
      "\n",
      "Run your program on the datafile `HW4DATA.txt`."
     ]
    },
    {
     "cell_type": "markdown",
     "metadata": {},
     "source": [
      "### Read in Data\n"
     ]
    },
    {
     "cell_type": "code",
     "collapsed": false,
     "input": [
      "data_cayley = np.genfromtxt('20141107111316.csv', delimiter=' ')\n",
      "data_numpy = np.genfromtxt('20141107131112.csv', delimiter=' ')\n",
      "n_cayley = data_cayley[:,0].size\n",
      "x_cayley = data_cayley[:,0]\n",
      "y_cayley = data_cayley[:,1]\n",
      "n_numpy = data_numpy[:,0].size\n",
      "x_numpy = data_numpy[:,0]\n",
      "y_numpy = data_numpy[:,1]"
     ],
     "language": "python",
     "metadata": {},
     "outputs": [],
     "prompt_number": 10
    },
    {
     "cell_type": "code",
     "collapsed": false,
     "input": [
      "n_cayley, n_numpy\n"
     ],
     "language": "python",
     "metadata": {},
     "outputs": [
      {
       "metadata": {},
       "output_type": "pyout",
       "prompt_number": 11,
       "text": [
        "(2755, 2761)"
       ]
      }
     ],
     "prompt_number": 11
    },
    {
     "cell_type": "markdown",
     "metadata": {},
     "source": [
      "### Create Statistical Functions"
     ]
    },
    {
     "cell_type": "code",
     "collapsed": false,
     "input": [
      "def mySum(v):\n",
      "    n = v.size\n",
      "    sum = 0\n",
      "    for i in range(n):\n",
      "        sum = sum + v[i]\n",
      "    return sum\n",
      "\n",
      "def myMean(v):\n",
      "    n = v.size\n",
      "    return mySum(v)/n\n",
      "\n",
      "def myStd(v):\n",
      "    n = v.size\n",
      "    mu = myMean(v)\n",
      "    sum = 0\n",
      "    for i in range(n):\n",
      "        sum = sum + (v[i]-mu)**2\n",
      "    return m.sqrt(sum/n)\n",
      "\n",
      "def myCorr(u,v):\n",
      "    n = u.size\n",
      "    mu_u = myMean(u)\n",
      "    mu_v = myMean(v)\n",
      "    sum_1 = 0\n",
      "    sum_2 = 0\n",
      "    sum_3 = 0\n",
      "\n",
      "    for i in range(n):\n",
      "        sum_1 = sum_1 + ((u[i]-mu_u)*(v[i]-mu_v))\n",
      "    \n",
      "    for i in range(n):\n",
      "        sum_2 = sum_2 + (u[i]-mu_u)**2\n",
      "        \n",
      "    for i in range(n):\n",
      "        sum_3 = sum_3 + (v[i]-mu_v)**2\n",
      "    \n",
      "    return sum_1/(m.sqrt(sum_2*sum_3))"
     ],
     "language": "python",
     "metadata": {},
     "outputs": [],
     "prompt_number": 12
    },
    {
     "cell_type": "markdown",
     "metadata": {},
     "source": [
      "### Statistical Analysis\n"
     ]
    },
    {
     "cell_type": "code",
     "collapsed": false,
     "input": [
      "mu_x = myMean(x)\n",
      "mu_y = myMean(y)\n",
      "sigma_x = myStd(x)\n",
      "sigma_y = myStd(y)\n",
      "\n",
      "print \"Mean of Column 1:\\t\\t\", mu_x\n",
      "print \"Mean of Column 2:\\t\\t\", mu_y\n",
      "print \"Standard Deviation of Column 1:\\t\",sigma_x\n",
      "print \"Standard Deviation of Column 2:\\t\",sigma_y\n",
      "print \"Correlation of Two Columns:\\t\",myCorr(x,y)"
     ],
     "language": "python",
     "metadata": {},
     "outputs": []
    },
    {
     "cell_type": "markdown",
     "metadata": {},
     "source": [
      "## Problem 2\n",
      "Write a program to plot the file `HW4DATA.txt` as a scatter plot. Do not connect the dots."
     ]
    },
    {
     "cell_type": "code",
     "collapsed": false,
     "input": [
      "from pylab import legend\n",
      "p1, = plt.plot(x_cayley,y_cayley)\n",
      "p2, = plt.plot(x_numpy,y_numpy)\n",
      "legend([p1, p2], [\"cayley method\", \"numpy/LAPACK\"])\n",
      "plt.axhline(linewidth=1.0, color=\"black\")\n",
      "plt.axvline(linewidth=1.0, color=\"black\")"
     ],
     "language": "python",
     "metadata": {},
     "outputs": [
      {
       "metadata": {},
       "output_type": "pyout",
       "prompt_number": 18,
       "text": [
        "<matplotlib.lines.Line2D at 0x10e67fd10>"
       ]
      },
      {
       "metadata": {},
       "output_type": "display_data",
       "png": "[encoded data removed]",
       "text": [
        "<matplotlib.figure.Figure at 0x10e587990>"
       ]
      }
     ],
     "prompt_number": 18
    },
    {
     "cell_type": "markdown",
     "metadata": {},
     "source": [
      "## Problem 3 \n",
      "Write a program to read in a file and calculate the linear regression (least squares linear fit), plot the points as a scatter plot, and plot a the regression line. Run your program on `HW4DATA.txt`.\n"
     ]
    },
    {
     "cell_type": "code",
     "collapsed": false,
     "input": [
      "A = np.ones((n_cayley,2))\n",
      "for i in range(n_cayley):\n",
      "    A[i,1] = x_cayley[i]\n",
      "\n",
      "[b,m] = la.solve(A.T.dot(A),A.T.dot(y_cayley))\n",
      "\n",
      "indep_vec = np.linspace(0,n_cayley,1000)\n",
      "dep_vec = m*indep_vec + b\n",
      "plt.plot(indep_vec, dep_vec)\n",
      "plt.plot(x_cayley,y_cayley)\n",
      "plt.axhline(linewidth=1.0, color=\"black\")\n",
      "plt.axvline(linewidth=1.0, color=\"black\")\n",
      "b,m\n"
     ],
     "language": "python",
     "metadata": {},
     "outputs": [
      {
       "metadata": {},
       "output_type": "pyout",
       "prompt_number": 30,
       "text": [
        "(-7.2095219169823661, 0.013069775136777652)"
       ]
      },
      {
       "metadata": {},
       "output_type": "display_data",
       "png": "[encoded data removed]",
       "text": [
        "<matplotlib.figure.Figure at 0x10eca2c10>"
       ]
      }
     ],
     "prompt_number": 30
    },
    {
     "cell_type": "markdown",
     "metadata": {},
     "source": [
      "## Problem 4\n",
      "Write a program to read in a file and calculate the best quadratic fit, plot the points as a scatter plot, and plot a the regression curve. Run your program on `HW4DATA.txt`.\n"
     ]
    },
    {
     "cell_type": "code",
     "collapsed": false,
     "input": [
      "A = np.ones((n_cayley,3))\n",
      "for i in range(n_cayley):\n",
      "    A[i,1] = x_cayley[i]\n",
      "    A[i,2] = x_cayley[i]**2\n",
      "\n",
      "[a_0,a_1,a_2] = la.solve(A.T.dot(A),A.T.dot(y_cayley))  \n",
      "\n",
      "indep_vec = np.linspace(0,n_cayley,1000)\n",
      "dep_vec = a_0+a_1*indep_vec + a_2*indep_vec**2\n",
      "plt.plot(indep_vec, dep_vec)\n",
      "plt.plot(x_cayley,y_cayley)\n",
      "plt.axhline(linewidth=1.0, color=\"black\")\n",
      "plt.axvline(linewidth=1.0, color=\"black\")\n",
      "a_0,a_1,a_2\n"
     ],
     "language": "python",
     "metadata": {},
     "outputs": [
      {
       "metadata": {},
       "output_type": "pyout",
       "prompt_number": 31,
       "text": [
        "(1.8308932052568254, -0.0066046296066569928, 7.1387460260050795e-06)"
       ]
      },
      {
       "metadata": {},
       "output_type": "display_data",
       "png": "[encoded data removed]",
       "text": [
        "<matplotlib.figure.Figure at 0x10ee5b150>"
       ]
      }
     ],
     "prompt_number": 31
    },
    {
     "cell_type": "markdown",
     "metadata": {},
     "source": [
      "## Probelm 5\n",
      "Write a program to read in a file and calculate the best cubic fit, plot the points as a scatter plot, and plot a the regression curve. Run your program on `HW4DATA.txt`."
     ]
    },
    {
     "cell_type": "code",
     "collapsed": false,
     "input": [
      "A = np.ones((n_cayley,4))\n",
      "for i in range(n_cayley):\n",
      "    A[i,1] = x_cayley[i]\n",
      "    A[i,2] = x_cayley[i]**2\n",
      "    A[i,3] = x_cayley[i]**3\n",
      "    \n",
      "\n",
      "[a_0,a_1,a_2,a_3] = la.solve(A.T.dot(A),A.T.dot(y_cayley))  \n",
      "\n",
      "indep_vec = np.linspace(0,n_cayley,1000)\n",
      "dep_vec = a_0+a_1*indep_vec + a_2*indep_vec**2+a_3*indep_vec**3\n",
      "plt.plot(indep_vec, dep_vec)\n",
      "plt.plot(x_cayley,y_cayley)\n",
      "plt.axhline(linewidth=1.0, color=\"black\")\n",
      "plt.axvline(linewidth=1.0, color=\"black\")\n",
      "a_0,a_1,a_2,a_3"
     ],
     "language": "python",
     "metadata": {},
     "outputs": [
      {
       "metadata": {},
       "output_type": "pyout",
       "prompt_number": 32,
       "text": [
        "(-0.63379206609311678,\n",
        " 0.0041170905411902423,\n",
        " -2.5852444295706312e-06,\n",
        " 2.3521933970045455e-09)"
       ]
      },
      {
       "metadata": {},
       "output_type": "display_data",
       "png": "[encoded data removed]",
       "text": [
        "<matplotlib.figure.Figure at 0x10efdb490>"
       ]
      }
     ],
     "prompt_number": 32
    },
    {
     "cell_type": "code",
     "collapsed": false,
     "input": [],
     "language": "python",
     "metadata": {},
     "outputs": []
    }
   ],
   "metadata": {}
  }
 ]
}