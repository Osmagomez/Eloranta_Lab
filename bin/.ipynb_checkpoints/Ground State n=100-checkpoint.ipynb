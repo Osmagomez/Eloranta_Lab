{
 "metadata": {
  "name": "",
  "signature": "sha256:d7d93f9951d8e6f0dd77c92738c4333ba8ba53b984d0de6e6b7d0ce667729fb6"
 },
 "nbformat": 3,
 "nbformat_minor": 0,
 "worksheets": [
  {
   "cells": [
    {
     "cell_type": "code",
     "collapsed": false,
     "input": [
      "import numpy as np\n",
      "import numpy.linalg as la\n",
      "import math, time\n",
      "import matplotlib.pyplot as plt\n",
      "from sys import argv\n",
      "import datetime\n",
      "%matplotlib inline"
     ],
     "language": "python",
     "metadata": {},
     "outputs": [],
     "prompt_number": 26
    },
    {
     "cell_type": "code",
     "collapsed": false,
     "input": [
      "k = 100\n",
      "\n",
      "eps = 10E-6\n",
      "times = np.array([[0.,0.]]) \n",
      "temp_times = times\n",
      "H = np.random.rand(k+200,k+200)\n",
      "H = H.T.dot(H)\n",
      "file = datetime.datetime.now().strftime(\"%Y%m%d%H%M%S\")"
     ],
     "language": "python",
     "metadata": {},
     "outputs": [],
     "prompt_number": 32
    },
    {
     "cell_type": "code",
     "collapsed": false,
     "input": [
      "for i in range(k):\n",
      "        # print i\n",
      "        i = i+2\n",
      "        n = i\n",
      "        err = 1\n",
      "        conv = 1\n",
      "        int_H = H[0:n,0:n]\n",
      "\n",
      "        start = time.clock()\n",
      "\n",
      "        phi0 = np.random.rand(n)\n",
      "        # print la.eig(H)[1].T\n",
      "        CayleyN = (np.identity(n)-0.5*int_H)\n",
      "        CayleyP = (np.identity(n)+0.5*int_H)\n",
      "\n",
      "        while(conv > eps):\n",
      "                phi1 = la.solve(CayleyP,CayleyN.dot(phi0))\n",
      "                mu = math.sqrt(phi1.dot(phi1))\n",
      "                phi1 = phi1/mu  \n",
      "                conv = math.sqrt((np.abs(phi1)-np.abs(phi0)).dot(np.abs(phi1)-np.abs(phi0)))\n",
      "                # err = math.sqrt(2)*math.sqrt(abs(phi1.dot(int_H.dot(int_H)).dot(phi1)- (phi1.dot(int_H.dot(int_H)).dot(phi1))**2))\n",
      "                # print err\n",
      "                phi0 = phi1\n",
      "\n",
      "        end = time.clock()\n",
      "        delta_t = end-start\n",
      "        temp_times[0][0] = i\n",
      "        temp_times[0][1] = delta_t\n",
      "        times = np.concatenate((times,temp_times),axis=0)\n",
      "        np.savetxt(file,times,fmt='%.4e')\n",
      "\n",
      "        \n",
      "plt.plot(times[:k,0],times[:k,1])\n",
      "\n",
      "plt.show()\n"
     ],
     "language": "python",
     "metadata": {},
     "outputs": [
      {
       "metadata": {},
       "output_type": "display_data",
       "png": "[encoded data removed]",
       "text": [
        "<matplotlib.figure.Figure at 0x10ec30190>"
       ]
      }
     ],
     "prompt_number": 33
    },
    {
     "cell_type": "code",
     "collapsed": false,
     "input": [
      "np.set_printoptions(precision=6)\n",
      "phi0"
     ],
     "language": "python",
     "metadata": {},
     "outputs": [
      {
       "metadata": {},
       "output_type": "pyout",
       "prompt_number": 34,
       "text": [
        "array([-0.094935, -0.096057, -0.10178 , -0.099219, -0.097089, -0.097033,\n",
        "       -0.098758, -0.104216, -0.098332, -0.097018, -0.102402, -0.096239,\n",
        "       -0.098734, -0.105752, -0.099294, -0.100605, -0.101216, -0.093854,\n",
        "       -0.097984, -0.099754, -0.096319, -0.098788, -0.099517, -0.09842 ,\n",
        "       -0.101383, -0.105324, -0.101146, -0.101833, -0.094279, -0.097077,\n",
        "       -0.097832, -0.102189, -0.102742, -0.10125 , -0.097857, -0.101754,\n",
        "       -0.100668, -0.098891, -0.093873, -0.099995, -0.095826, -0.103389,\n",
        "       -0.100639, -0.094354, -0.098921, -0.100959, -0.102625, -0.106157,\n",
        "       -0.100221, -0.09968 , -0.095368, -0.104255, -0.102345, -0.098933,\n",
        "       -0.100639, -0.09618 , -0.100753, -0.096752, -0.102995, -0.093164,\n",
        "       -0.101365, -0.101131, -0.099828, -0.09559 , -0.101657, -0.097293,\n",
        "       -0.10002 , -0.096943, -0.102959, -0.102501, -0.097684, -0.093914,\n",
        "       -0.096335, -0.095506, -0.102979, -0.100255, -0.100033, -0.099462,\n",
        "       -0.102459, -0.100797, -0.098398, -0.101093, -0.094854, -0.100054,\n",
        "       -0.099324, -0.096936, -0.100831, -0.100929, -0.103075, -0.107075,\n",
        "       -0.096951, -0.097061, -0.101106, -0.097536, -0.093412, -0.096506,\n",
        "       -0.098778, -0.105925, -0.098345, -0.100835, -0.101887])"
       ]
      }
     ],
     "prompt_number": 34
    },
    {
     "cell_type": "code",
     "collapsed": false,
     "input": [
      "la.eig(int_H)[1][:,0]"
     ],
     "language": "python",
     "metadata": {},
     "outputs": [
      {
       "metadata": {},
       "output_type": "pyout",
       "prompt_number": 35,
       "text": [
        "array([ 0.094901,  0.096054,  0.101784,  0.099226,  0.097091,  0.097019,\n",
        "        0.098775,  0.104224,  0.098339,  0.097043,  0.102389,  0.096238,\n",
        "        0.09873 ,  0.105752,  0.099307,  0.100582,  0.101227,  0.093873,\n",
        "        0.09798 ,  0.099759,  0.096307,  0.098795,  0.099518,  0.098437,\n",
        "        0.101374,  0.105338,  0.101133,  0.101838,  0.094252,  0.09706 ,\n",
        "        0.097823,  0.102193,  0.102714,  0.101276,  0.097868,  0.101753,\n",
        "        0.100663,  0.09891 ,  0.09388 ,  0.099994,  0.095805,  0.103364,\n",
        "        0.100643,  0.094369,  0.098931,  0.100959,  0.102622,  0.106174,\n",
        "        0.100243,  0.099674,  0.095381,  0.104265,  0.102324,  0.098944,\n",
        "        0.100633,  0.096196,  0.100745,  0.096736,  0.102986,  0.093154,\n",
        "        0.101371,  0.101129,  0.09984 ,  0.095591,  0.101671,  0.097308,\n",
        "        0.099997,  0.096957,  0.102969,  0.102503,  0.097694,  0.09391 ,\n",
        "        0.096317,  0.0955  ,  0.102999,  0.100234,  0.100048,  0.099462,\n",
        "        0.102462,  0.100784,  0.098383,  0.101065,  0.094856,  0.100061,\n",
        "        0.099326,  0.096941,  0.100824,  0.100938,  0.103075,  0.107076,\n",
        "        0.096965,  0.09706 ,  0.101094,  0.097551,  0.093412,  0.096509,\n",
        "        0.098747,  0.105936,  0.098345,  0.100809,  0.101897])"
       ]
      }
     ],
     "prompt_number": 35
    },
    {
     "cell_type": "code",
     "collapsed": false,
     "input": [],
     "language": "python",
     "metadata": {},
     "outputs": []
    },
    {
     "cell_type": "code",
     "collapsed": false,
     "input": [],
     "language": "python",
     "metadata": {},
     "outputs": []
    }
   ],
   "metadata": {}
  }
 ]
}