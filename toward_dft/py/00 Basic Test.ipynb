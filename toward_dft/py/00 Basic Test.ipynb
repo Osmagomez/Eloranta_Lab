{
 "metadata": {
  "name": "",
  "signature": "sha256:906d30b8ad77e109da1d769e43f261ad1ce0700c6e684dbd7ddc44f729779ced"
 },
 "nbformat": 3,
 "nbformat_minor": 0,
 "worksheets": [
  {
   "cells": [
    {
     "cell_type": "code",
     "collapsed": false,
     "input": [
      "import numpy.linalg, numpy.random, numpy as np, math\n",
      "from random import random as rand\n",
      "from numpy.linalg import eig\n",
      "from scipy.linalg import lu\n"
     ],
     "language": "python",
     "metadata": {},
     "outputs": [],
     "prompt_number": 23
    },
    {
     "cell_type": "code",
     "collapsed": false,
     "input": [
      "B = np.array([[2,-12],[1,-5]]) # is python row-major or column major in array handling"
     ],
     "language": "python",
     "metadata": {},
     "outputs": [],
     "prompt_number": 14
    },
    {
     "cell_type": "code",
     "collapsed": false,
     "input": [
      "eig(B)[0]"
     ],
     "language": "python",
     "metadata": {},
     "outputs": [
      {
       "metadata": {},
       "output_type": "pyout",
       "prompt_number": 31,
       "text": [
        "array([-1., -2.])"
       ]
      }
     ],
     "prompt_number": 31
    },
    {
     "cell_type": "code",
     "collapsed": false,
     "input": [
      "eig(B)[1]"
     ],
     "language": "python",
     "metadata": {},
     "outputs": [
      {
       "metadata": {},
       "output_type": "pyout",
       "prompt_number": 32,
       "text": [
        "array([[ 0.9701425 ,  0.9486833 ],\n",
        "       [ 0.24253563,  0.31622777]])"
       ]
      }
     ],
     "prompt_number": 32
    },
    {
     "cell_type": "code",
     "collapsed": false,
     "input": [
      "A = np.array([[0.897573, 0.264485, 0.102425], [0.138995, 0.480795, 0.797018],[0.275379, 0.848398, 0.317144]])"
     ],
     "language": "python",
     "metadata": {},
     "outputs": [],
     "prompt_number": 20
    },
    {
     "cell_type": "code",
     "collapsed": false,
     "input": [
      "A\n"
     ],
     "language": "python",
     "metadata": {},
     "outputs": [
      {
       "metadata": {},
       "output_type": "pyout",
       "prompt_number": 28,
       "text": [
        "array([[ 0.897573,  0.264485,  0.102425],\n",
        "       [ 0.138995,  0.480795,  0.797018],\n",
        "       [ 0.275379,  0.848398,  0.317144]])"
       ]
      }
     ],
     "prompt_number": 28
    },
    {
     "cell_type": "code",
     "collapsed": false,
     "input": [
      "lu(A)[1]"
     ],
     "language": "python",
     "metadata": {},
     "outputs": [
      {
       "metadata": {},
       "output_type": "pyout",
       "prompt_number": 30,
       "text": [
        "array([[ 1.        ,  0.        ,  0.        ],\n",
        "       [ 0.30680401,  1.        ,  0.        ],\n",
        "       [ 0.15485649,  0.57326308,  1.        ]])"
       ]
      }
     ],
     "prompt_number": 30
    },
    {
     "cell_type": "code",
     "collapsed": false,
     "input": [
      "C = np.array([[0.740877,  0.998700,  0.589736,  0.375214],\n",
      "[0.214535,  0.289884,  0.279413,  0.327703],\n",
      "[0.338196,  0.010073,  0.417421,  0.189283],\n",
      "[0.323136,  0.506844,  0.360984,  0.711160]])"
     ],
     "language": "python",
     "metadata": {},
     "outputs": [],
     "prompt_number": 37
    },
    {
     "cell_type": "code",
     "collapsed": false,
     "input": [
      "eig(C)[1]"
     ],
     "language": "python",
     "metadata": {},
     "outputs": [
      {
       "metadata": {},
       "output_type": "pyout",
       "prompt_number": 38,
       "text": [
        "array([[ 0.73878832+0.j        , -0.39524338+0.j        ,\n",
        "        -0.68579109+0.j        , -0.68579109-0.j        ],\n",
        "       [ 0.30326818+0.j        ,  0.15649039+0.j        ,\n",
        "         0.13851279-0.20295536j,  0.13851279+0.20295536j],\n",
        "       [ 0.28679266+0.j        , -0.51127839+0.j        ,\n",
        "         0.64385924+0.19354775j,  0.64385924-0.19354775j],\n",
        "       [ 0.52912209+0.j        ,  0.74691890+0.j        ,\n",
        "        -0.12849911+0.02804357j, -0.12849911-0.02804357j]])"
       ]
      }
     ],
     "prompt_number": 38
    },
    {
     "cell_type": "code",
     "collapsed": false,
     "input": [],
     "language": "python",
     "metadata": {},
     "outputs": []
    }
   ],
   "metadata": {}
  }
 ]
}