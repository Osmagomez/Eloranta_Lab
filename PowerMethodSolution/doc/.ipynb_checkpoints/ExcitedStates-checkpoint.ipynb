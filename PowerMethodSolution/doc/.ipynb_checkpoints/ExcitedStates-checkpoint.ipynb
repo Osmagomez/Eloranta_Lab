{
 "metadata": {
  "name": "",
  "signature": "sha256:d1ea2be82a093b62f227f0f5342ce2b4a6569c425d3c75672a7c8ca1dbc51dfc"
 },
 "nbformat": 3,
 "nbformat_minor": 0,
 "worksheets": [
  {
   "cells": [
    {
     "cell_type": "markdown",
     "metadata": {},
     "source": [
      "# Problem \n",
      "Eigenproblems abound in the modeling of nature.\n",
      "\n",
      "Density Functional Theory models yield single particle-like Schr\u00f6dinger equations with a nonlinear potential term that accounts for all the many-body interactions.\n",
      "\n",
      "Electronic Structure Theory generates Schrodinger like equations. \n",
      "\n",
      "# Goal\n",
      "\n",
      "We seek a method for an efficient computational solution to the time-independent Schr\u00f6dinger equation."
     ]
    },
    {
     "cell_type": "markdown",
     "metadata": {},
     "source": [
      "## the Time-Independent Schr\u00f6dinger Equation\n",
      "Given, $\\hat{H}$ is the Hamiltonian operator (or Hamiltonian matrix) for a discrete system), $\\psi$ is the wavefunction, and $E$, discrete energy states, where\n",
      "\n",
      "\\begin{align*}\n",
      "\\hat{H}=T+V(x)=-\\frac{\\hbar^2}{2m}\\Delta +V(x)\\tag{1}\n",
      "\\end{align*}\n",
      "\n",
      "for $\\Delta$, the Laplacian. \n",
      "\n",
      "We have\n",
      "\n",
      "\\begin{align*}\n",
      "\\hat{H}\\psi_j(r)=E_j\\psi_j(r),\\ \\ \\ j\\in\\mathbb{N}\\tag{2}\n",
      "\\end{align*}\n",
      "\n",
      "For numerical calculations, we will typically take $H$ to be a matrix of discrete values describing the position and momentum of particles in the system.\n",
      "\n",
      "Note that this is an Eigenproblem of the form \n",
      "\n",
      "$$A\\mathbf{x}=\\lambda\\mathbf{x}$$"
     ]
    },
    {
     "cell_type": "markdown",
     "metadata": {},
     "source": [
      "### The Imaginary Time Propagation Method\n",
      "The imaginary time propagation method (ITP) relies on solving the time-dependent Schr\u00f6dinger equation:\n",
      "\n",
      "\\begin{align*}\n",
      "i\\hbar\\frac{\\partial \\psi(r,t)}{\\partial t}= \\hat{H}\\psi(r,t)\\tag{3}\n",
      "\\end{align*}\n",
      "\n",
      "in imaginary time where . \n",
      "\n",
      "### Wick Rotation\n",
      "We perform a Wick Rotation (setting $t=-i\\tau$) to transform Eqn. 3 into a simple diffusion equation  \n",
      "\n",
      "\n",
      "\\begin{align*}\n",
      "\\frac{\\partial \\psi(r,\\tau)}{\\partial \\tau}=-\\frac{\\hat{H}}{\\hbar}\\psi(r,\\tau)\\tag{4}\n",
      "\\end{align*}"
     ]
    },
    {
     "cell_type": "markdown",
     "metadata": {},
     "source": [
      "## Solution to the Diffusion Equation\n",
      "The formal solution to eqn. 4 is given by \n",
      "\n",
      "\\begin{align*}\n",
      "\\psi(r,\\tau)=\\exp(-\\hat{H}\\tau/\\hbar)\\psi(r,0)\\tag{5}\n",
      "\\end{align*}\n",
      "\n",
      "We expand the initial state $\\psi(r,0)$ in terms of the eigenfunctions $\\phi_j(r)$ the correspond to the eigenvalues $E_j$ for\n",
      "\n",
      "\\begin{align*}\n",
      "\\hat{H}\\phi_j(r)=E_j\\phi_j(r)\\tag{6}\n",
      "\\end{align*}"
     ]
    },
    {
     "cell_type": "markdown",
     "metadata": {},
     "source": [
      "The time evolution starting from the initial state $\\psi(r,0)$ can now be written as \n",
      "\n",
      "\\begin{align*}\n",
      "\\psi(r,\\tau)=e^{-\\hat{H}\\tau/\\hbar}\\psi(r,0)=e^{-\\hat{H}\\tau/\\hbar}\\sum_{j=0}^\\infty a_j\\psi_j(r)=\\sum_{j=0}^\\infty a_je^{E_j\\tau/\\hbar}\\phi_j(r)\\tag{7}\n",
      "\\end{align*}"
     ]
    },
    {
     "cell_type": "markdown",
     "metadata": {},
     "source": [
      "## Imaginary Time Propagation as Iterative Solution\n",
      "As $\\tau\\to\\infty$, $\\psi(r,\\tau)$ becomes proportional to $\\phi_0(r)$. In other words, iterated $\\psi$ functions will converge on the eigenfunction for the base state of the time-**independent** equation (eq. 6). Here we are solving an eigenproblem through an interative approximation of a differential equation. \n",
      "\n",
      "*iterative differential equation methods*\n",
      "\n",
      "*Olver finite differences*"
     ]
    },
    {
     "cell_type": "markdown",
     "metadata": {},
     "source": [
      "## Finding the Ground State"
     ]
    },
    {
     "cell_type": "code",
     "collapsed": false,
     "input": [
      "import numpy as np\n",
      "import numpy.linalg as la\n",
      "import math, time\n",
      "import matplotlib.pyplot as plt\n",
      "from sys import argv\n",
      "import datetime\n",
      "%matplotlib inline"
     ],
     "language": "python",
     "metadata": {},
     "outputs": [],
     "prompt_number": 2
    },
    {
     "cell_type": "code",
     "collapsed": false,
     "input": [
      "k = 100\n",
      "\n",
      "eps = 10E-6\n",
      "times = np.array([[0.,0.]]) \n",
      "temp_times = times\n",
      "H = np.random.rand(k+200,k+200)\n",
      "H = H.T.dot(H)\n",
      "file = datetime.datetime.now().strftime(\"%Y%m%d%H%M%S\")"
     ],
     "language": "python",
     "metadata": {},
     "outputs": [],
     "prompt_number": 3
    },
    {
     "cell_type": "code",
     "collapsed": false,
     "input": [
      "for i in range(k):\n",
      "        # print i\n",
      "        i = i+2\n",
      "        n = i\n",
      "        err = 1\n",
      "        conv = 1\n",
      "        int_H = H[0:n,0:n]\n",
      "        iterations = 0\n",
      "        start = time.clock()\n",
      "\n",
      "        phi0 = np.random.rand(n)\n",
      "        # print la.eig(H)[1].T\n",
      "        CayleyN = (np.identity(n)-0.5*int_H)\n",
      "        CayleyP = (np.identity(n)+0.5*int_H)\n",
      "\n",
      "        while(conv > eps/100):\n",
      "                iterations += 1\n",
      "                phi1 = la.solve(CayleyP,CayleyN.dot(phi0))\n",
      "                mu = math.sqrt(phi1.dot(phi1))\n",
      "                phi1 = phi1/mu  \n",
      "                conv = math.sqrt((np.abs(phi1)-np.abs(phi0)).dot(np.abs(phi1)-np.abs(phi0)))\n",
      "                # err = math.sqrt(2)*math.sqrt(abs(phi1.dot(int_H.dot(int_H)).dot(phi1)- (phi1.dot(int_H.dot(int_H)).dot(phi1))**2))\n",
      "                # print err\n",
      "                phi0 = phi1\n",
      "\n",
      "        end = time.clock()\n",
      "        print iterations\n",
      "        delta_t = end-start\n",
      "        temp_times[0][0] = i\n",
      "        temp_times[0][1] = delta_t\n",
      "        times = np.concatenate((times,temp_times),axis=0)\n",
      "        np.savetxt(file,times,fmt='%.4e')\n",
      "\n",
      "        \n",
      "plt.plot(times[:k,0],times[:k,1])\n",
      "\n",
      "plt.show()\n"
     ],
     "language": "python",
     "metadata": {},
     "outputs": [
      {
       "metadata": {},
       "output_type": "display_data",
       "png": "[encoded data removed]",
       "text": [
        "<matplotlib.figure.Figure at 0x11053c650>"
       ]
      }
     ],
     "prompt_number": 15
    },
    {
     "cell_type": "code",
     "collapsed": false,
     "input": [
      "np.set_printoptions(precision=6)\n",
      "phi0"
     ],
     "language": "python",
     "metadata": {},
     "outputs": [
      {
       "metadata": {},
       "output_type": "pyout",
       "prompt_number": 16,
       "text": [
        "array([ 0.098598,  0.100265,  0.095025,  0.095775,  0.09464 ,  0.096599,\n",
        "        0.096508,  0.100957,  0.103805,  0.10603 ,  0.102552,  0.101034,\n",
        "        0.10636 ,  0.104147,  0.096384,  0.101009,  0.098411,  0.101118,\n",
        "        0.096546,  0.100696,  0.09975 ,  0.096243,  0.097646,  0.095947,\n",
        "        0.106207,  0.101702,  0.100812,  0.095776,  0.093859,  0.097235,\n",
        "        0.097111,  0.097374,  0.102151,  0.103593,  0.094456,  0.099608,\n",
        "        0.100065,  0.102219,  0.094074,  0.095701,  0.098194,  0.107129,\n",
        "        0.097895,  0.097316,  0.099701,  0.098345,  0.100888,  0.100346,\n",
        "        0.098301,  0.09011 ,  0.11002 ,  0.097654,  0.09853 ,  0.097568,\n",
        "        0.099519,  0.098629,  0.100716,  0.099087,  0.099384,  0.100641,\n",
        "        0.100856,  0.105444,  0.101622,  0.101194,  0.095854,  0.100674,\n",
        "        0.09899 ,  0.101403,  0.098962,  0.103598,  0.099548,  0.097491,\n",
        "        0.102601,  0.104041,  0.104411,  0.102041,  0.097384,  0.096235,\n",
        "        0.101188,  0.100598,  0.097123,  0.100782,  0.101379,  0.095636,\n",
        "        0.102954,  0.098423,  0.095492,  0.094661,  0.097597,  0.093326,\n",
        "        0.095669,  0.098604,  0.10304 ,  0.091931,  0.096429,  0.101558,\n",
        "        0.096972,  0.093569,  0.103769,  0.102539,  0.109665])"
       ]
      }
     ],
     "prompt_number": 16
    },
    {
     "cell_type": "code",
     "collapsed": false,
     "input": [
      "la.eig(int_H)[1][:,0]"
     ],
     "language": "python",
     "metadata": {},
     "outputs": [
      {
       "metadata": {},
       "output_type": "pyout",
       "prompt_number": 17,
       "text": [
        "array([ 0.098598,  0.100265,  0.095025,  0.095775,  0.09464 ,  0.096599,\n",
        "        0.096508,  0.100957,  0.103805,  0.106031,  0.102552,  0.101034,\n",
        "        0.10636 ,  0.104147,  0.096384,  0.101009,  0.098411,  0.101118,\n",
        "        0.096546,  0.100696,  0.09975 ,  0.096243,  0.097646,  0.095947,\n",
        "        0.106207,  0.101702,  0.100812,  0.095777,  0.093859,  0.097235,\n",
        "        0.097111,  0.097374,  0.102151,  0.103593,  0.094456,  0.099608,\n",
        "        0.100065,  0.102219,  0.094074,  0.095701,  0.098194,  0.107129,\n",
        "        0.097895,  0.097316,  0.099701,  0.098345,  0.100888,  0.100346,\n",
        "        0.098301,  0.090111,  0.110021,  0.097654,  0.09853 ,  0.097568,\n",
        "        0.099519,  0.09863 ,  0.100716,  0.099087,  0.099384,  0.100641,\n",
        "        0.100856,  0.105444,  0.101621,  0.101194,  0.095854,  0.100674,\n",
        "        0.09899 ,  0.101403,  0.098962,  0.103598,  0.099548,  0.097491,\n",
        "        0.102601,  0.104041,  0.104411,  0.102041,  0.097384,  0.096235,\n",
        "        0.101188,  0.100597,  0.097123,  0.100782,  0.101379,  0.095635,\n",
        "        0.102954,  0.098423,  0.095493,  0.094661,  0.097597,  0.093326,\n",
        "        0.095669,  0.098604,  0.10304 ,  0.091931,  0.096429,  0.101558,\n",
        "        0.096972,  0.093569,  0.103769,  0.102539,  0.109665])"
       ]
      }
     ],
     "prompt_number": 17
    },
    {
     "cell_type": "code",
     "collapsed": false,
     "input": [
      "abs(la.eig(int_H)[1][:,0])-abs(phi0)\n"
     ],
     "language": "python",
     "metadata": {},
     "outputs": [
      {
       "metadata": {},
       "output_type": "pyout",
       "prompt_number": 18,
       "text": [
        "array([ -2.006604e-07,   1.700561e-07,  -1.771677e-07,  -2.059107e-07,\n",
        "         3.448798e-08,  -2.433046e-08,   1.131446e-07,   7.423343e-08,\n",
        "         5.117748e-08,   3.036601e-07,  -4.612399e-08,   6.389505e-10,\n",
        "        -1.013733e-07,   1.927032e-07,  -1.619328e-08,   3.747558e-08,\n",
        "        -1.331242e-07,  -7.244949e-08,   2.192848e-07,   9.029285e-08,\n",
        "        -1.586413e-07,   1.424134e-07,  -7.180850e-08,   7.261967e-08,\n",
        "         4.058222e-09,  -1.176393e-07,   5.143330e-08,   7.148184e-08,\n",
        "         2.926113e-07,  -2.592652e-08,  -6.353175e-08,   5.808863e-10,\n",
        "        -1.635231e-07,  -6.656144e-08,  -3.047453e-08,   1.700310e-07,\n",
        "        -5.070044e-08,   1.312531e-07,   3.052739e-07,   1.363959e-07,\n",
        "         2.177418e-08,  -1.305050e-08,   8.164661e-08,  -4.111662e-09,\n",
        "        -5.990691e-08,   1.022985e-07,  -9.020645e-08,   2.425612e-07,\n",
        "         4.294973e-08,   1.356902e-07,   1.626833e-07,  -1.879414e-07,\n",
        "        -1.057461e-07,  -1.282285e-07,  -5.011395e-08,   1.993277e-07,\n",
        "        -1.039867e-07,   4.286127e-08,  -2.186629e-07,   2.953255e-08,\n",
        "        -1.799635e-08,   5.392744e-08,  -3.411294e-07,   6.603637e-08,\n",
        "         5.239992e-08,  -1.596268e-08,  -2.510092e-08,   1.882452e-08,\n",
        "        -9.418556e-08,   9.788429e-08,   1.082589e-07,  -7.564633e-08,\n",
        "        -2.450232e-07,   2.311293e-08,  -1.507158e-07,   2.145516e-08,\n",
        "        -7.755745e-08,   1.188076e-07,  -1.801996e-08,  -2.165753e-07,\n",
        "         3.356247e-11,   1.141551e-07,   1.787539e-07,  -1.455793e-07,\n",
        "         2.174523e-09,   2.676469e-08,   1.192650e-07,  -3.180931e-08,\n",
        "        -2.537567e-07,   9.266495e-08,   1.448192e-08,  -1.460201e-07,\n",
        "        -9.528265e-08,  -4.103974e-08,   1.956326e-07,  -1.420731e-07,\n",
        "         4.031461e-08,  -1.365290e-07,   2.868258e-08,  -6.500240e-08,\n",
        "        -4.943056e-08])"
       ]
      }
     ],
     "prompt_number": 18
    },
    {
     "cell_type": "code",
     "collapsed": false,
     "input": [],
     "language": "python",
     "metadata": {},
     "outputs": []
    },
    {
     "cell_type": "markdown",
     "metadata": {},
     "source": [
      "### Finding an Excited Eigenstate\n",
      "Given our basic "
     ]
    }
   ],
   "metadata": {}
  }
 ]
}