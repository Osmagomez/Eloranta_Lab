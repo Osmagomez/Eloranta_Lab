{
 "metadata": {
  "name": "",
  "signature": "sha256:e7f14b12c4d9dadf2a7276a88c4c81c7dac60db5ef2455dd10cefb052ca42aba"
 },
 "nbformat": 3,
 "nbformat_minor": 0,
 "worksheets": [
  {
   "cells": [
    {
     "cell_type": "markdown",
     "metadata": {},
     "source": [
      "The function `numpy.polyfit(x,y,n)` will return the coefficients of a least squares polynomial fit of degree $n$, similar to the fit you did in homework set 4. To evaluate the fit, use the function `numpy.polyval(fit,x)`.\n",
      "\n",
      "    import numpy as np\n",
      "    #... stuff in your program ...\n",
      "    #... put x values into list xvals\n",
      "    #... put y values into list yvals\n",
      "    #... do a polynomial fit of degree n on the xvals and yvals\n",
      "\n",
      "    coefficients = np.polyfit(xvals, yvals, n) # get a degree n fit\n",
      "\n",
      "    # create a list of predicted values at all the xvals\n",
      "\n",
      "    yfits = [np.polyval(coefficients, x) for x in xvals]\n",
      "\n",
      "Write a program that does the following:"
     ]
    },
    {
     "cell_type": "markdown",
     "metadata": {},
     "source": [
      "(a) Reads a data file of comma-separated values. Each line will have a pair of values, representing one (x,y) pair, that will have a comma (and possibly some additional white space) between them. Use the data set `pigs.csv` provided on moodle for this exercise."
     ]
    },
    {
     "cell_type": "code",
     "collapsed": false,
     "input": [],
     "language": "python",
     "metadata": {},
     "outputs": []
    }
   ],
   "metadata": {}
  }
 ]
}